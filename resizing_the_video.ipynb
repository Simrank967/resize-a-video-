{
  "nbformat": 4,
  "nbformat_minor": 0,
  "metadata": {
    "colab": {
      "provenance": []
    },
    "kernelspec": {
      "name": "python3",
      "display_name": "Python 3"
    },
    "language_info": {
      "name": "python"
    }
  },
  "cells": [
    {
      "cell_type": "code",
      "execution_count": 1,
      "metadata": {
        "colab": {
          "base_uri": "https://localhost:8080/"
        },
        "id": "5jfFNRsHEtLH",
        "outputId": "4bc4f784-e554-485d-ae08-b53354beae10"
      },
      "outputs": [
        {
          "output_type": "stream",
          "name": "stdout",
          "text": [
            "✅ Video resized to 50% and saved as 'output_video_resized.mp4'\n"
          ]
        }
      ],
      "source": [
        "import cv2\n",
        "\n",
        "# Load the input video\n",
        "input_path = '/content/vecteezy_ai-generated-colored-paint-splashes-isolated-on-black_40710866.mp4'  # Replace with your file name\n",
        "cap = cv2.VideoCapture(input_path)\n",
        "\n",
        "# Get original video properties\n",
        "frame_width = int(cap.get(cv2.CAP_PROP_FRAME_WIDTH))\n",
        "frame_height = int(cap.get(cv2.CAP_PROP_FRAME_HEIGHT))\n",
        "fps = cap.get(cv2.CAP_PROP_FPS)\n",
        "\n",
        "# Resize to 50%\n",
        "new_width = frame_width // 2\n",
        "new_height = frame_height // 2\n",
        "\n",
        "# Output video writer\n",
        "out = cv2.VideoWriter('output_video_resized.mp4',\n",
        "                      cv2.VideoWriter_fourcc(*'mp4v'),\n",
        "                      fps,\n",
        "                      (new_width, new_height))  # New resolution\n",
        "\n",
        "# Process and resize each frame\n",
        "while cap.isOpened():\n",
        "    ret, frame = cap.read()\n",
        "    if not ret:\n",
        "        break\n",
        "\n",
        "    resized_frame = cv2.resize(frame, (new_width, new_height))  # Resize to 50%\n",
        "    out.write(resized_frame)\n",
        "\n",
        "# Release everything\n",
        "cap.release()\n",
        "out.release()\n",
        "print(\"✅ Video resized to 50% and saved as 'output_video_resized.mp4'\")\n"
      ]
    }
  ]
}